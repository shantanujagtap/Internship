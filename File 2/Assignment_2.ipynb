{
 "cells": [
  {
   "cell_type": "code",
   "execution_count": 1,
   "id": "d331a9e5",
   "metadata": {},
   "outputs": [
    {
     "name": "stdout",
     "output_type": "stream",
     "text": [
      "Python:Exercises::PHP:exercises:\n"
     ]
    }
   ],
   "source": [
    "import re\n",
    "\n",
    "text = 'Python Exercises, PHP exercises.'\n",
    "result = re.sub(r'[ ,.]', ':', text)\n",
    "print(result)"
   ]
  },
  {
   "cell_type": "code",
   "execution_count": 2,
   "id": "d5b9aefc",
   "metadata": {},
   "outputs": [
    {
     "name": "stdout",
     "output_type": "stream",
     "text": [
      "         SUMMARY\n",
      "0    hello world\n",
      "1     XXXXX test\n",
      "2  four five six\n"
     ]
    }
   ],
   "source": [
    "import pandas as pd\n",
    "import re\n",
    "\n",
    "data = {'SUMMARY': ['hello world!', 'XXXXX test', '123four five:; six...']}\n",
    "df = pd.DataFrame(data)\n",
    "df['SUMMARY'] = df['SUMMARY'].apply(lambda x: re.sub(r'[^a-zA-Z ]', '', x))\n",
    "print(df)"
   ]
  },
  {
   "cell_type": "code",
   "execution_count": 3,
   "id": "111d953e",
   "metadata": {},
   "outputs": [
    {
     "name": "stdout",
     "output_type": "stream",
     "text": [
      "['This', 'test', 'string', 'finding', 'words']\n"
     ]
    }
   ],
   "source": [
    "import re\n",
    "\n",
    "def find_words(text):\n",
    "    pattern = re.compile(r'\\b\\w{4,}\\b')\n",
    "    return pattern.findall(text)\n",
    "\n",
    "text = \"This is a test string for finding words.\"\n",
    "print(find_words(text))"
   ]
  },
  {
   "cell_type": "code",
   "execution_count": 4,
   "id": "1e901002",
   "metadata": {},
   "outputs": [
    {
     "name": "stdout",
     "output_type": "stream",
     "text": [
      "['This', 'test']\n"
     ]
    }
   ],
   "source": [
    "def find_specific_words(text):\n",
    "    pattern = re.compile(r'\\b\\w{3,5}\\b')\n",
    "    return pattern.findall(text)\n",
    "\n",
    "text = \"This is a test string.\"\n",
    "print(find_specific_words(text))"
   ]
  },
  {
   "cell_type": "code",
   "execution_count": 5,
   "id": "ee945952",
   "metadata": {},
   "outputs": [
    {
     "name": "stdout",
     "output_type": "stream",
     "text": [
      "['example', 'hr@fliprobo', 'github', 'Hello', 'Data']\n"
     ]
    }
   ],
   "source": [
    "def remove_parentheses(text_list):\n",
    "    pattern = re.compile(r'\\s*\\([^)]*\\)')\n",
    "    return [pattern.sub('', text) for text in text_list]\n",
    "\n",
    "sample_text = [\"example (.com)\", \"hr@fliprobo (.com)\", \"github (.com)\", \"Hello (Data Science World)\", \"Data (Scientist)\"]\n",
    "print(remove_parentheses(sample_text))"
   ]
  },
  {
   "cell_type": "code",
   "execution_count": 10,
   "id": "7d999b44",
   "metadata": {},
   "outputs": [
    {
     "name": "stdout",
     "output_type": "stream",
     "text": [
      "['example', 'hr@fliprobo', 'github', 'Hello', 'Data']\n"
     ]
    }
   ],
   "source": [
    "def remove_parentheses(text_list):\n",
    "    pattern = re.compile(r'\\s*\\([^)]*\\)')\n",
    "    return [pattern.sub('', text) for text in text_list]\n",
    "\n",
    "sample_text = [\"example (.com)\", \"hr@fliprobo (.com)\", \"github (.com)\", \"Hello (Data Science World)\", \"Data (Scientist)\"]\n",
    "print(remove_parentheses(sample_text))"
   ]
  },
  {
   "cell_type": "code",
   "execution_count": 11,
   "id": "3e0718d2",
   "metadata": {},
   "outputs": [
    {
     "name": "stdout",
     "output_type": "stream",
     "text": [
      "['example', 'hr@fliprobo', 'github', 'Hello', 'Data']\n"
     ]
    }
   ],
   "source": [
    "import re\n",
    "\n",
    "def remove_parentheses_from_list(text_list):\n",
    "    return [re.sub(r'\\s*\\([^)]*\\)', '', text) for text in text_list]\n",
    "\n",
    "sample_text = [\"example (.com)\", \"hr@fliprobo (.com)\", \"github (.com)\", \"Hello (Data Science World)\", \"Data (Scientist)\"]\n",
    "print(remove_parentheses_from_list(sample_text))"
   ]
  },
  {
   "cell_type": "code",
   "execution_count": 12,
   "id": "ddd9496f",
   "metadata": {},
   "outputs": [
    {
     "name": "stdout",
     "output_type": "stream",
     "text": [
      "['Importance', 'Of', 'Regular', 'Expressions', 'In', 'Python']\n"
     ]
    }
   ],
   "source": [
    "def split_uppercase(text):\n",
    "    return re.findall(r'[A-Z][^A-Z]*', text)\n",
    "\n",
    "text = \"ImportanceOfRegularExpressionsInPython\"\n",
    "print(split_uppercase(text))"
   ]
  },
  {
   "cell_type": "code",
   "execution_count": 13,
   "id": "c9c5d574",
   "metadata": {},
   "outputs": [
    {
     "name": "stdout",
     "output_type": "stream",
     "text": [
      "RegularExpression 1IsAn 2ImportantTopic 3InPython\n"
     ]
    }
   ],
   "source": [
    "def insert_spaces(text):\n",
    "    return re.sub(r'(\\d+)', r' \\1', text).strip()\n",
    "\n",
    "text = \"RegularExpression1IsAn2ImportantTopic3InPython\"\n",
    "print(insert_spaces(text))"
   ]
  },
  {
   "cell_type": "code",
   "execution_count": 14,
   "id": "63fbafa5",
   "metadata": {},
   "outputs": [
    {
     "name": "stdout",
     "output_type": "stream",
     "text": [
      "Regular Expression 1 Is An 2 Important Topic 3 In Python\n"
     ]
    }
   ],
   "source": [
    "def insert_spaces_advanced(text):\n",
    "    return re.sub(r'(?<=[a-z])(?=[A-Z0-9])|(?<=[A-Z0-9])(?=[A-Z0-9][a-z])', r' ', text)\n",
    "\n",
    "text = \"RegularExpression1IsAn2ImportantTopic3InPython\"\n",
    "print(insert_spaces_advanced(text))"
   ]
  },
  {
   "cell_type": "code",
   "execution_count": 15,
   "id": "85b5233f",
   "metadata": {},
   "outputs": [
    {
     "name": "stdout",
     "output_type": "stream",
     "text": [
      "         Country                           Region  Happiness Rank  \\\n",
      "0    Switzerland                   Western Europe               1   \n",
      "1        Iceland                   Western Europe               2   \n",
      "2        Denmark                   Western Europe               3   \n",
      "3         Norway                   Western Europe               4   \n",
      "4         Canada                    North America               5   \n",
      "..           ...                              ...             ...   \n",
      "153       Rwanda               Sub-Saharan Africa             154   \n",
      "154        Benin               Sub-Saharan Africa             155   \n",
      "155        Syria  Middle East and Northern Africa             156   \n",
      "156      Burundi               Sub-Saharan Africa             157   \n",
      "157         Togo               Sub-Saharan Africa             158   \n",
      "\n",
      "     Happiness Score  Standard Error  Economy (GDP per Capita)   Family  \\\n",
      "0              7.587         0.03411                   1.39651  1.34951   \n",
      "1              7.561         0.04884                   1.30232  1.40223   \n",
      "2              7.527         0.03328                   1.32548  1.36058   \n",
      "3              7.522         0.03880                   1.45900  1.33095   \n",
      "4              7.427         0.03553                   1.32629  1.32261   \n",
      "..               ...             ...                       ...      ...   \n",
      "153            3.465         0.03464                   0.22208  0.77370   \n",
      "154            3.340         0.03656                   0.28665  0.35386   \n",
      "155            3.006         0.05015                   0.66320  0.47489   \n",
      "156            2.905         0.08658                   0.01530  0.41587   \n",
      "157            2.839         0.06727                   0.20868  0.13995   \n",
      "\n",
      "     Health (Life Expectancy)  Freedom  Trust (Government Corruption)  \\\n",
      "0                     0.94143  0.66557                        0.41978   \n",
      "1                     0.94784  0.62877                        0.14145   \n",
      "2                     0.87464  0.64938                        0.48357   \n",
      "3                     0.88521  0.66973                        0.36503   \n",
      "4                     0.90563  0.63297                        0.32957   \n",
      "..                        ...      ...                            ...   \n",
      "153                   0.42864  0.59201                        0.55191   \n",
      "154                   0.31910  0.48450                        0.08010   \n",
      "155                   0.72193  0.15684                        0.18906   \n",
      "156                   0.22396  0.11850                        0.10062   \n",
      "157                   0.28443  0.36453                        0.10731   \n",
      "\n",
      "     Generosity  Dystopia Residual first_six_letters  \n",
      "0       0.29678            2.51738            Switze  \n",
      "1       0.43630            2.70201            Icelan  \n",
      "2       0.34139            2.49204            Denmar  \n",
      "3       0.34699            2.46531            Norway  \n",
      "4       0.45811            2.45176            Canada  \n",
      "..          ...                ...               ...  \n",
      "153     0.22628            0.67042            Rwanda  \n",
      "154     0.18260            1.63328             Benin  \n",
      "155     0.47179            0.32858             Syria  \n",
      "156     0.19727            1.83302            Burund  \n",
      "157     0.16681            1.56726              Togo  \n",
      "\n",
      "[158 rows x 13 columns]\n"
     ]
    }
   ],
   "source": [
    "def create_dataframe_and_extract(url):\n",
    "    df = pd.read_csv(url)\n",
    "    df['first_six_letters'] = df['Country'].apply(lambda x: x[:6])\n",
    "    return df\n",
    "\n",
    "url = \"https://raw.githubusercontent.com/dsrscientist/DSData/master/happiness_score_dataset.csv\"\n",
    "print(create_dataframe_and_extract(url))"
   ]
  },
  {
   "cell_type": "code",
   "execution_count": 16,
   "id": "2ba9b0ee",
   "metadata": {},
   "outputs": [
    {
     "name": "stdout",
     "output_type": "stream",
     "text": [
      "<re.Match object; span=(0, 15), match='Python3_Example'>\n"
     ]
    }
   ],
   "source": [
    "import re\n",
    "\n",
    "def match_pattern(text):\n",
    "    return re.match(r'^[a-zA-Z0-9_]+$', text)\n",
    "\n",
    "text = \"Python3_Example\"\n",
    "print(match_pattern(text))"
   ]
  },
  {
   "cell_type": "code",
   "execution_count": 17,
   "id": "c1efe420",
   "metadata": {},
   "outputs": [
    {
     "name": "stdout",
     "output_type": "stream",
     "text": [
      "True\n"
     ]
    }
   ],
   "source": [
    "def starts_with_number(text, number):\n",
    "    pattern = rf'^{number}'\n",
    "    return bool(re.match(pattern, text))\n",
    "\n",
    "text = \"5Examples\"\n",
    "number = 5\n",
    "print(starts_with_number(text, number))"
   ]
  },
  {
   "cell_type": "code",
   "execution_count": 18,
   "id": "5eb46049",
   "metadata": {},
   "outputs": [
    {
     "name": "stdout",
     "output_type": "stream",
     "text": [
      "192.168.1.1\n"
     ]
    }
   ],
   "source": [
    "def remove_leading_zeros(ip):\n",
    "    return re.sub(r'\\b0+(\\d)', r'\\1', ip)\n",
    "\n",
    "ip_address = \"192.168.001.001\"\n",
    "print(remove_leading_zeros(ip_address))"
   ]
  },
  {
   "cell_type": "code",
   "execution_count": 19,
   "id": "0f9c22fe",
   "metadata": {},
   "outputs": [
    {
     "name": "stdout",
     "output_type": "stream",
     "text": [
      "['August']\n"
     ]
    }
   ],
   "source": [
    "def find_date(text):\n",
    "    pattern = r'\\b(January|February|March|April|May|June|July|August|September|October|November|December)\\s\\d{1,2}\\w{0,2}\\s\\d{4}'\n",
    "    return re.findall(pattern, text)\n",
    "\n",
    "text = \"On August 15th 1947, India was declared independent.\"\n",
    "print(find_date(text))"
   ]
  },
  {
   "cell_type": "code",
   "execution_count": 20,
   "id": "8e68588d",
   "metadata": {},
   "outputs": [
    {
     "name": "stdout",
     "output_type": "stream",
     "text": [
      "{'fox': True, 'dog': True, 'horse': False}\n"
     ]
    }
   ],
   "source": [
    "def search_literals(text, words):\n",
    "    found = {word: bool(re.search(word, text)) for word in words}\n",
    "    return found\n",
    "\n",
    "text = \"The quick brown fox jumps over the lazy dog.\"\n",
    "words = ['fox', 'dog', 'horse']\n",
    "print(search_literals(text, words))"
   ]
  },
  {
   "cell_type": "code",
   "execution_count": 21,
   "id": "500ce51c",
   "metadata": {},
   "outputs": [
    {
     "name": "stdout",
     "output_type": "stream",
     "text": [
      "(16, 19)\n"
     ]
    }
   ],
   "source": [
    "def find_literal_with_position(text, word):\n",
    "    match = re.search(word, text)\n",
    "    if match:\n",
    "        return match.start(), match.end()\n",
    "    else:\n",
    "        return \"Not found\"\n",
    "\n",
    "text = \"The quick brown fox jumps over the lazy dog.\"\n",
    "word = \"fox\"\n",
    "print(find_literal_with_position(text, word))"
   ]
  },
  {
   "cell_type": "code",
   "execution_count": 22,
   "id": "776b117e",
   "metadata": {},
   "outputs": [
    {
     "name": "stdout",
     "output_type": "stream",
     "text": [
      "(16, 19)\n"
     ]
    }
   ],
   "source": [
    "def find_literal_with_position(text, word):\n",
    "    match = re.search(word, text)\n",
    "    if match:\n",
    "        return match.start(), match.end()\n",
    "    else:\n",
    "        return \"Not found\"\n",
    "\n",
    "text = \"The quick brown fox jumps over the lazy dog.\"\n",
    "word = \"fox\"\n",
    "print(find_literal_with_position(text, word))"
   ]
  },
  {
   "cell_type": "code",
   "execution_count": 23,
   "id": "73a687b7",
   "metadata": {},
   "outputs": [
    {
     "name": "stdout",
     "output_type": "stream",
     "text": [
      "[(7, 16), (22, 31), (36, 45)]\n"
     ]
    }
   ],
   "source": [
    "def find_occurrence_and_position(text, pattern):\n",
    "    return [(match.start(), match.end()) for match in re.finditer(pattern, text)]\n",
    "\n",
    "text = \"Python exercises, PHP exercises, C# exercises\"\n",
    "pattern = 'exercises'\n",
    "print(find_occurrence_and_position(text, pattern))"
   ]
  },
  {
   "cell_type": "code",
   "execution_count": 24,
   "id": "53b1f79f",
   "metadata": {},
   "outputs": [
    {
     "name": "stdout",
     "output_type": "stream",
     "text": [
      "01-04-2023\n"
     ]
    }
   ],
   "source": [
    "def convert_date_format(date):\n",
    "    return re.sub(r'(\\d{4})-(\\d{2})-(\\d{2})', r'\\3-\\2-\\1', date)\n",
    "\n",
    "date = \"2023-04-01\"\n",
    "print(convert_date_format(date))"
   ]
  },
  {
   "cell_type": "code",
   "execution_count": 25,
   "id": "3f49daae",
   "metadata": {},
   "outputs": [
    {
     "name": "stdout",
     "output_type": "stream",
     "text": [
      "['01.12', '145.8', '3.01', '27.25', '0.25']\n"
     ]
    }
   ],
   "source": [
    "def find_decimal_numbers(text):\n",
    "    return re.findall(r'\\b\\d+\\.\\d{1,2}\\b', text)\n",
    "\n",
    "text = \"01.12 0132.123 2.31875 145.8 3.01 27.25 0.25\"\n",
    "print(find_decimal_numbers(text))"
   ]
  },
  {
   "cell_type": "code",
   "execution_count": 26,
   "id": "6647fb5c",
   "metadata": {},
   "outputs": [
    {
     "name": "stdout",
     "output_type": "stream",
     "text": [
      "[('2', 4), ('1', 34), ('4', 48)]\n"
     ]
    }
   ],
   "source": [
    "import re\n",
    "\n",
    "def numbers_and_positions(text):\n",
    "    pattern = r'\\d+'\n",
    "    return [(m.group(), m.start()) for m in re.finditer(pattern, text)]\n",
    "\n",
    "text = \"The 2 brown foxes jumped over the 1 lazy dog at 4 PM.\"\n",
    "print(numbers_and_positions(text))"
   ]
  },
  {
   "cell_type": "code",
   "execution_count": 27,
   "id": "026d0e19",
   "metadata": {},
   "outputs": [
    {
     "name": "stdout",
     "output_type": "stream",
     "text": [
      "950\n"
     ]
    }
   ],
   "source": [
    "def max_numeric_value(text):\n",
    "    numbers = [int(num) for num in re.findall(r'\\d+', text)]\n",
    "    return max(numbers) if numbers else None\n",
    "\n",
    "text = 'My marks in each semester are: 947 896 926 524 734 950 642'\n",
    "print(max_numeric_value(text))"
   ]
  },
  {
   "cell_type": "code",
   "execution_count": 28,
   "id": "046ad8c7",
   "metadata": {},
   "outputs": [
    {
     "name": "stdout",
     "output_type": "stream",
     "text": [
      "Regular Expression Is An Important Topic In Python\n"
     ]
    }
   ],
   "source": [
    "def insert_spaces(text):\n",
    "    return re.sub(r'(?<=[a-z])(?=[A-Z])', ' ', text)\n",
    "\n",
    "text = \"RegularExpressionIsAnImportantTopicInPython\"\n",
    "print(insert_spaces(text))"
   ]
  },
  {
   "cell_type": "code",
   "execution_count": 29,
   "id": "4d1feb1f",
   "metadata": {},
   "outputs": [
    {
     "name": "stdout",
     "output_type": "stream",
     "text": [
      "['The', 'Quick', 'Brown', 'Fox', 'Jumps', 'Over', 'The', 'Lazy', 'Dog']\n"
     ]
    }
   ],
   "source": [
    "def find_sequences(text):\n",
    "    return re.findall(r'\\b[A-Z][a-z]*\\b', text)\n",
    "\n",
    "text = \"The Quick Brown Fox Jumps Over The Lazy Dog\"\n",
    "print(find_sequences(text))"
   ]
  },
  {
   "cell_type": "code",
   "execution_count": 30,
   "id": "a42cf7dd",
   "metadata": {},
   "outputs": [
    {
     "name": "stdout",
     "output_type": "stream",
     "text": [
      "Hello world\n"
     ]
    }
   ],
   "source": [
    "def remove_continuous_duplicates(text):\n",
    "    return re.sub(r'\\b(\\w+)( \\1\\b)+', r'\\1', text, flags=re.IGNORECASE)\n",
    "\n",
    "text = \"Hello hello world world\"\n",
    "print(remove_continuous_duplicates(text))"
   ]
  },
  {
   "cell_type": "code",
   "execution_count": 31,
   "id": "0e5dd81e",
   "metadata": {},
   "outputs": [
    {
     "name": "stdout",
     "output_type": "stream",
     "text": [
      "False\n"
     ]
    }
   ],
   "source": [
    "def ends_with_alphanumeric(text):\n",
    "    return bool(re.search(r'\\w$', text))\n",
    "\n",
    "text = \"This is a test.\"\n",
    "print(ends_with_alphanumeric(text))"
   ]
  },
  {
   "cell_type": "code",
   "execution_count": 32,
   "id": "b35c5308",
   "metadata": {},
   "outputs": [
    {
     "name": "stdout",
     "output_type": "stream",
     "text": [
      "['#Doltiwal', '#xyzabc', '#Demonetization']\n"
     ]
    }
   ],
   "source": [
    "def extract_hashtags(text):\n",
    "    return re.findall(r'#\\w+', text)\n",
    "\n",
    "text = \"\"\"RT @kapil_kausik: #Doltiwal I mean #xyzabc is \"hurt\" by #Demonetization as the same has rendered USELESS\"\"\"\n",
    "print(extract_hashtags(text))"
   ]
  },
  {
   "cell_type": "code",
   "execution_count": 33,
   "id": "35bf7747",
   "metadata": {},
   "outputs": [
    {
     "name": "stdout",
     "output_type": "stream",
     "text": [
      "@Jags123456 Bharat band on 28??<ed><ed>Those who are protesting #demonetization are all different party leaders\n"
     ]
    }
   ],
   "source": [
    "def remove_unicode_symbols(text):\n",
    "    return re.sub(r'<U\\+\\w+>', '', text)\n",
    "\n",
    "text = \"@Jags123456 Bharat band on 28??<ed><U+00A0><U+00BD><ed><U+00B8><U+0082>Those who are protesting #demonetization are all different party leaders\"\n",
    "print(remove_unicode_symbols(text))"
   ]
  },
  {
   "cell_type": "code",
   "execution_count": 34,
   "id": "2de176b1",
   "metadata": {},
   "outputs": [
    {
     "name": "stdout",
     "output_type": "stream",
     "text": [
      "['12-09-1992', '15-12-1999']\n"
     ]
    }
   ],
   "source": [
    "def extract_dates(text):\n",
    "    return re.findall(r'\\d{2}-\\d{2}-\\d{4}', text)\n",
    "\n",
    "text = \"Ron was born on 12-09-1992 and he was admitted to school 15-12-1999.\"\n",
    "print(extract_dates(text))"
   ]
  },
  {
   "cell_type": "code",
   "execution_count": 35,
   "id": "94f4214e",
   "metadata": {},
   "outputs": [
    {
     "name": "stdout",
     "output_type": "stream",
     "text": [
      "['12-09-1992', '15-12-1999']\n"
     ]
    }
   ],
   "source": [
    "def extract_dates(text):\n",
    "    return re.findall(r'\\d{2}-\\d{2}-\\d{4}', text)\n",
    "\n",
    "text = \"Ron was born on 12-09-1992 and he was admitted to school 15-12-1999.\"\n",
    "print(extract_dates(text))"
   ]
  },
  {
   "cell_type": "code",
   "execution_count": null,
   "id": "3d4915a5",
   "metadata": {},
   "outputs": [],
   "source": []
  }
 ],
 "metadata": {
  "kernelspec": {
   "display_name": "Python 3 (ipykernel)",
   "language": "python",
   "name": "python3"
  },
  "language_info": {
   "codemirror_mode": {
    "name": "ipython",
    "version": 3
   },
   "file_extension": ".py",
   "mimetype": "text/x-python",
   "name": "python",
   "nbconvert_exporter": "python",
   "pygments_lexer": "ipython3",
   "version": "3.11.5"
  }
 },
 "nbformat": 4,
 "nbformat_minor": 5
}
